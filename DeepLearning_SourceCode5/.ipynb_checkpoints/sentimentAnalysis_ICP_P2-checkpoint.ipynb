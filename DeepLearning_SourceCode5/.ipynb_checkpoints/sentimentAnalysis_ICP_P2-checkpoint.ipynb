{
 "cells": [
  {
   "cell_type": "code",
   "execution_count": 9,
   "metadata": {},
   "outputs": [],
   "source": [
    "import pandas as pd # data processing, CSV file I/O (e.g. pd.read_csv)\n",
    "from keras.preprocessing.text import Tokenizer\n",
    "from keras.preprocessing.sequence import pad_sequences\n",
    "from keras.models import Sequential\n",
    "from keras.layers import Dense, Embedding, LSTM, SpatialDropout1D\n",
    "from matplotlib import pyplot\n",
    "from sklearn.model_selection import train_test_split\n",
    "from keras.utils.np_utils import to_categorical\n",
    "import re\n",
    "from sklearn.preprocessing import LabelEncoder"
   ]
  },
  {
   "cell_type": "code",
   "execution_count": 10,
   "metadata": {},
   "outputs": [],
   "source": [
    "data = pd.read_csv('Sentiment.csv')\n",
    "# Keeping only the neccessary columns\n",
    "data = data[['text','sentiment']]"
   ]
  },
  {
   "cell_type": "code",
   "execution_count": 11,
   "metadata": {},
   "outputs": [],
   "source": [
    "data['text'] = data['text'].apply(lambda x: x.lower())\n",
    "data['text'] = data['text'].apply((lambda x: re.sub('[^a-zA-z0-9\\s]', '', x)))"
   ]
  },
  {
   "cell_type": "code",
   "execution_count": 12,
   "metadata": {},
   "outputs": [],
   "source": [
    "for idx, row in data.iterrows():\n",
    "    row[0] = row[0].replace('rt', ' ')"
   ]
  },
  {
   "cell_type": "code",
   "execution_count": 13,
   "metadata": {},
   "outputs": [],
   "source": [
    "max_fatures = 2000\n",
    "tokenizer = Tokenizer(num_words=max_fatures, split=' ')\n",
    "tokenizer.fit_on_texts(data['text'].values)\n",
    "X = tokenizer.texts_to_sequences(data['text'].values)"
   ]
  },
  {
   "cell_type": "code",
   "execution_count": 14,
   "metadata": {},
   "outputs": [],
   "source": [
    "X = pad_sequences(X)"
   ]
  },
  {
   "cell_type": "code",
   "execution_count": 15,
   "metadata": {},
   "outputs": [],
   "source": [
    "embed_dim = 128\n",
    "lstm_out = 196\n",
    "def createmodel():\n",
    "    model = Sequential()\n",
    "    model.add(Embedding(max_fatures, embed_dim,input_length = X.shape[1]))\n",
    "    model.add(LSTM(lstm_out, dropout=0.2, recurrent_dropout=0.2))\n",
    "    model.add(Dense(3,activation='softmax'))\n",
    "    model.compile(loss = 'categorical_crossentropy', optimizer='adam',metrics = ['accuracy'])\n",
    "    return model"
   ]
  },
  {
   "cell_type": "code",
   "execution_count": 16,
   "metadata": {},
   "outputs": [
    {
     "name": "stdout",
     "output_type": "stream",
     "text": [
      "['Negative' 'Neutral' 'Positive']\n",
      "[0 1 2]\n"
     ]
    }
   ],
   "source": [
    "labelencoder = LabelEncoder()\n",
    "integer_encoded = labelencoder.fit_transform(data['sentiment'])\n",
    "y = to_categorical(integer_encoded)\n",
    "X_train, X_test, Y_train, Y_test = train_test_split(X,y, test_size = 0.33, random_state = 42)\n",
    "print(labelencoder.classes_)\n",
    "print(labelencoder.transform(labelencoder.classes_))"
   ]
  },
  {
   "cell_type": "code",
   "execution_count": 17,
   "metadata": {},
   "outputs": [
    {
     "name": "stdout",
     "output_type": "stream",
     "text": [
      "465/465 [==============================] - 32s 69ms/step - loss: 0.8288 - accuracy: 0.6446\n",
      "117/117 [==============================] - 1s 8ms/step - loss: 0.7507 - accuracy: 0.6708\n",
      "465/465 [==============================] - 33s 71ms/step - loss: 0.8270 - accuracy: 0.6431\n",
      "117/117 [==============================] - 1s 9ms/step - loss: 0.7601 - accuracy: 0.6783\n",
      "465/465 [==============================] - 33s 72ms/step - loss: 0.8260 - accuracy: 0.6431\n",
      "117/117 [==============================] - 1s 7ms/step - loss: 0.7562 - accuracy: 0.6880\n",
      "465/465 [==============================] - 35s 75ms/step - loss: 0.8294 - accuracy: 0.6486\n",
      "117/117 [==============================] - 1s 9ms/step - loss: 0.7596 - accuracy: 0.6776\n",
      "465/465 [==============================] - 33s 72ms/step - loss: 0.8270 - accuracy: 0.6476\n",
      "117/117 [==============================] - 1s 9ms/step - loss: 0.7748 - accuracy: 0.6728\n",
      "Epoch 1/2\n",
      "465/465 [==============================] - 34s 73ms/step - loss: 0.8290 - accuracy: 0.6426\n",
      "Epoch 2/2\n",
      "465/465 [==============================] - 35s 75ms/step - loss: 0.6812 - accuracy: 0.7090\n",
      "117/117 [==============================] - 1s 9ms/step - loss: 0.7497 - accuracy: 0.6697\n",
      "Epoch 1/2\n",
      "465/465 [==============================] - 36s 76ms/step - loss: 0.8285 - accuracy: 0.6457\n",
      "Epoch 2/2\n",
      "465/465 [==============================] - 35s 76ms/step - loss: 0.6880 - accuracy: 0.7066\n",
      "117/117 [==============================] - 1s 7ms/step - loss: 0.7521 - accuracy: 0.6826\n",
      "Epoch 1/2\n",
      "465/465 [==============================] - 35s 75ms/step - loss: 0.8283 - accuracy: 0.6419\n",
      "Epoch 2/2\n",
      "465/465 [==============================] - 36s 77ms/step - loss: 0.6813 - accuracy: 0.7101\n",
      "117/117 [==============================] - 1s 9ms/step - loss: 0.7383 - accuracy: 0.6805\n",
      "Epoch 1/2\n",
      "465/465 [==============================] - 34s 74ms/step - loss: 0.8315 - accuracy: 0.6403\n",
      "Epoch 2/2\n",
      "465/465 [==============================] - 35s 76ms/step - loss: 0.6773 - accuracy: 0.7119\n",
      "117/117 [==============================] - 1s 10ms/step - loss: 0.7618 - accuracy: 0.6744\n",
      "Epoch 1/2\n",
      "465/465 [==============================] - 35s 75ms/step - loss: 0.8353 - accuracy: 0.6398\n",
      "Epoch 2/2\n",
      "465/465 [==============================] - 35s 76ms/step - loss: 0.6778 - accuracy: 0.7141\n",
      "117/117 [==============================] - 1s 8ms/step - loss: 0.7999 - accuracy: 0.6755\n",
      "Epoch 1/3\n",
      "465/465 [==============================] - 47s 102ms/step - loss: 0.8292 - accuracy: 0.6484\n",
      "Epoch 2/3\n",
      "465/465 [==============================] - 47s 101ms/step - loss: 0.6806 - accuracy: 0.7094\n",
      "Epoch 3/3\n",
      "465/465 [==============================] - 35s 75ms/step - loss: 0.6014 - accuracy: 0.7502\n",
      "117/117 [==============================] - 1s 10ms/step - loss: 0.7650 - accuracy: 0.6676\n",
      "Epoch 1/3\n",
      "465/465 [==============================] - 37s 79ms/step - loss: 0.8259 - accuracy: 0.6466\n",
      "Epoch 2/3\n",
      "465/465 [==============================] - 35s 76ms/step - loss: 0.6832 - accuracy: 0.7109\n",
      "Epoch 3/3\n",
      "465/465 [==============================] - 36s 77ms/step - loss: 0.6051 - accuracy: 0.7483\n",
      "117/117 [==============================] - 1s 10ms/step - loss: 0.7455 - accuracy: 0.6805\n",
      "Epoch 1/3\n",
      "465/465 [==============================] - 35s 76ms/step - loss: 0.8276 - accuracy: 0.6445\n",
      "Epoch 2/3\n",
      "465/465 [==============================] - 36s 77ms/step - loss: 0.6792 - accuracy: 0.7065\n",
      "Epoch 3/3\n",
      "465/465 [==============================] - 36s 77ms/step - loss: 0.6020 - accuracy: 0.7490\n",
      "117/117 [==============================] - 1s 10ms/step - loss: 0.7584 - accuracy: 0.6864\n",
      "Epoch 1/3\n",
      "465/465 [==============================] - 36s 77ms/step - loss: 0.8311 - accuracy: 0.6463\n",
      "Epoch 2/3\n",
      "465/465 [==============================] - 37s 80ms/step - loss: 0.6794 - accuracy: 0.7054\n",
      "Epoch 3/3\n",
      "465/465 [==============================] - 36s 77ms/step - loss: 0.5947 - accuracy: 0.7508\n",
      "117/117 [==============================] - 1s 10ms/step - loss: 0.7809 - accuracy: 0.6841\n",
      "Epoch 1/3\n",
      "465/465 [==============================] - 36s 77ms/step - loss: 0.8270 - accuracy: 0.6468\n",
      "Epoch 2/3\n",
      "465/465 [==============================] - 36s 76ms/step - loss: 0.6725 - accuracy: 0.7114\n",
      "Epoch 3/3\n",
      "465/465 [==============================] - 35s 76ms/step - loss: 0.5877 - accuracy: 0.7493\n",
      "117/117 [==============================] - 1s 10ms/step - loss: 0.8066 - accuracy: 0.6582\n",
      "233/233 [==============================] - 20s 84ms/step - loss: 0.8444 - accuracy: 0.6360\n",
      "59/59 [==============================] - 1s 13ms/step - loss: 0.7760 - accuracy: 0.6509\n",
      "233/233 [==============================] - 21s 90ms/step - loss: 0.8366 - accuracy: 0.6427\n",
      "59/59 [==============================] - 1s 13ms/step - loss: 0.7637 - accuracy: 0.6719\n",
      "233/233 [==============================] - 20s 86ms/step - loss: 0.8521 - accuracy: 0.6334\n",
      "59/59 [==============================] - 1s 13ms/step - loss: 0.7759 - accuracy: 0.6643\n",
      "233/233 [==============================] - 20s 84ms/step - loss: 0.8439 - accuracy: 0.6343\n",
      "59/59 [==============================] - 1s 14ms/step - loss: 0.7532 - accuracy: 0.6728\n",
      "233/233 [==============================] - 20s 85ms/step - loss: 0.8316 - accuracy: 0.6412\n",
      "59/59 [==============================] - 1s 13ms/step - loss: 0.8022 - accuracy: 0.6674\n",
      "Epoch 1/2\n",
      "233/233 [==============================] - 20s 85ms/step - loss: 0.8440 - accuracy: 0.6369\n",
      "Epoch 2/2\n",
      "233/233 [==============================] - 20s 84ms/step - loss: 0.6853 - accuracy: 0.7097\n",
      "59/59 [==============================] - 1s 13ms/step - loss: 0.7312 - accuracy: 0.6848\n",
      "Epoch 1/2\n",
      "233/233 [==============================] - 22s 94ms/step - loss: 0.8331 - accuracy: 0.6437\n",
      "Epoch 2/2\n",
      "233/233 [==============================] - 33s 143ms/step - loss: 0.6813 - accuracy: 0.7117\n",
      "59/59 [==============================] - 2s 29ms/step - loss: 0.7423 - accuracy: 0.6746\n",
      "Epoch 1/2\n",
      "233/233 [==============================] - 22s 96ms/step - loss: 0.8325 - accuracy: 0.6342\n",
      "Epoch 2/2\n",
      "233/233 [==============================] - 39s 167ms/step - loss: 0.6773 - accuracy: 0.7170\n",
      "59/59 [==============================] - 1s 17ms/step - loss: 0.7625 - accuracy: 0.6826\n",
      "Epoch 1/2\n",
      "233/233 [==============================] - 29s 126ms/step - loss: 0.8423 - accuracy: 0.6356\n",
      "Epoch 2/2\n",
      "233/233 [==============================] - 29s 125ms/step - loss: 0.6845 - accuracy: 0.7102\n",
      "59/59 [==============================] - 1s 17ms/step - loss: 0.7557 - accuracy: 0.6868\n",
      "Epoch 1/2\n",
      "233/233 [==============================] - 31s 132ms/step - loss: 0.8357 - accuracy: 0.6378\n",
      "Epoch 2/2\n",
      "233/233 [==============================] - 42s 181ms/step - loss: 0.6814 - accuracy: 0.7080\n",
      "59/59 [==============================] - 1s 18ms/step - loss: 0.7673 - accuracy: 0.6706\n",
      "Epoch 1/3\n",
      "233/233 [==============================] - 28s 121ms/step - loss: 0.8446 - accuracy: 0.6386\n",
      "Epoch 2/3\n",
      "233/233 [==============================] - 34s 148ms/step - loss: 0.6932 - accuracy: 0.7041\n",
      "Epoch 3/3\n",
      "233/233 [==============================] - 29s 126ms/step - loss: 0.6071 - accuracy: 0.7458\n",
      "59/59 [==============================] - 1s 16ms/step - loss: 0.7612 - accuracy: 0.6778\n",
      "Epoch 1/3\n",
      "233/233 [==============================] - 28s 119ms/step - loss: 0.8472 - accuracy: 0.6398\n",
      "Epoch 2/3\n",
      "233/233 [==============================] - 26s 113ms/step - loss: 0.6918 - accuracy: 0.7076s - l\n",
      "Epoch 3/3\n",
      "233/233 [==============================] - 28s 120ms/step - loss: 0.6111 - accuracy: 0.7428\n",
      "59/59 [==============================] - 1s 17ms/step - loss: 0.7548 - accuracy: 0.6708\n",
      "Epoch 1/3\n",
      "233/233 [==============================] - 39s 169ms/step - loss: 0.8494 - accuracy: 0.6318\n",
      "Epoch 2/3\n",
      "233/233 [==============================] - 43s 186ms/step - loss: 0.6929 - accuracy: 0.7022\n",
      "Epoch 3/3\n",
      "233/233 [==============================] - 33s 142ms/step - loss: 0.6109 - accuracy: 0.7439\n",
      "59/59 [==============================] - 1s 11ms/step - loss: 0.7678 - accuracy: 0.6735\n",
      "Epoch 1/3\n",
      "233/233 [==============================] - 24s 102ms/step - loss: 0.8461 - accuracy: 0.6391\n",
      "Epoch 2/3\n",
      "233/233 [==============================] - 24s 103ms/step - loss: 0.6799 - accuracy: 0.7124\n",
      "Epoch 3/3\n",
      "233/233 [==============================] - 35s 151ms/step - loss: 0.6034 - accuracy: 0.7490\n"
     ]
    },
    {
     "name": "stdout",
     "output_type": "stream",
     "text": [
      "59/59 [==============================] - 2s 30ms/step - loss: 0.7713 - accuracy: 0.6835\n",
      "Epoch 1/3\n",
      "233/233 [==============================] - 40s 171ms/step - loss: 0.8380 - accuracy: 0.6405\n",
      "Epoch 2/3\n",
      "233/233 [==============================] - 37s 158ms/step - loss: 0.6707 - accuracy: 0.7212\n",
      "Epoch 3/3\n",
      "233/233 [==============================] - 36s 155ms/step - loss: 0.5939 - accuracy: 0.7465\n",
      "59/59 [==============================] - 1s 12ms/step - loss: 0.8096 - accuracy: 0.6620\n",
      "117/117 [==============================] - 16s 133ms/step - loss: 0.8672 - accuracy: 0.6264\n",
      "30/30 [==============================] - 1s 25ms/step - loss: 0.7575 - accuracy: 0.6600\n",
      "117/117 [==============================] - 16s 135ms/step - loss: 0.8625 - accuracy: 0.6321\n",
      "30/30 [==============================] - 1s 25ms/step - loss: 0.7973 - accuracy: 0.6595\n",
      "117/117 [==============================] - 17s 142ms/step - loss: 0.8692 - accuracy: 0.6203\n",
      "30/30 [==============================] - 1s 23ms/step - loss: 0.7742 - accuracy: 0.6708\n",
      "117/117 [==============================] - 17s 141ms/step - loss: 0.8735 - accuracy: 0.6245\n",
      "30/30 [==============================] - 1s 20ms/step - loss: 0.7638 - accuracy: 0.6744\n",
      "117/117 [==============================] - 18s 151ms/step - loss: 0.8590 - accuracy: 0.6269\n",
      "30/30 [==============================] - 1s 22ms/step - loss: 0.7822 - accuracy: 0.6652\n",
      "Epoch 1/2\n",
      "117/117 [==============================] - 14s 121ms/step - loss: 0.8703 - accuracy: 0.6275\n",
      "Epoch 2/2\n",
      "117/117 [==============================] - 15s 126ms/step - loss: 0.7130 - accuracy: 0.6898\n",
      "30/30 [==============================] - 1s 19ms/step - loss: 0.7483 - accuracy: 0.6713\n",
      "Epoch 1/2\n",
      "117/117 [==============================] - 18s 154ms/step - loss: 0.8595 - accuracy: 0.6268\n",
      "Epoch 2/2\n",
      "117/117 [==============================] - 15s 132ms/step - loss: 0.6975 - accuracy: 0.7038\n",
      "30/30 [==============================] - 1s 19ms/step - loss: 0.7384 - accuracy: 0.6783\n",
      "Epoch 1/2\n",
      "117/117 [==============================] - 15s 131ms/step - loss: 0.8816 - accuracy: 0.6154\n",
      "Epoch 2/2\n",
      "117/117 [==============================] - 15s 129ms/step - loss: 0.7153 - accuracy: 0.6890\n",
      "30/30 [==============================] - 1s 27ms/step - loss: 0.8126 - accuracy: 0.6407\n",
      "Epoch 1/2\n",
      "117/117 [==============================] - 15s 130ms/step - loss: 0.8589 - accuracy: 0.6278\n",
      "Epoch 2/2\n",
      "117/117 [==============================] - 15s 126ms/step - loss: 0.6967 - accuracy: 0.7030\n",
      "30/30 [==============================] - 1s 26ms/step - loss: 0.7511 - accuracy: 0.6749\n",
      "Epoch 1/2\n",
      "117/117 [==============================] - 15s 125ms/step - loss: 0.8593 - accuracy: 0.6252\n",
      "Epoch 2/2\n",
      "117/117 [==============================] - 15s 125ms/step - loss: 0.6942 - accuracy: 0.7029\n",
      "30/30 [==============================] - 1s 25ms/step - loss: 0.7985 - accuracy: 0.6647\n",
      "Epoch 1/3\n",
      "117/117 [==============================] - 15s 127ms/step - loss: 0.8639 - accuracy: 0.6308\n",
      "Epoch 2/3\n",
      "117/117 [==============================] - 15s 126ms/step - loss: 0.7042 - accuracy: 0.6976\n",
      "Epoch 3/3\n",
      "117/117 [==============================] - 15s 124ms/step - loss: 0.6257 - accuracy: 0.7373\n",
      "30/30 [==============================] - 1s 27ms/step - loss: 0.7382 - accuracy: 0.6864\n",
      "Epoch 1/3\n",
      "117/117 [==============================] - 15s 128ms/step - loss: 0.8562 - accuracy: 0.6349\n",
      "Epoch 2/3\n",
      "117/117 [==============================] - 15s 125ms/step - loss: 0.6993 - accuracy: 0.7020\n",
      "Epoch 3/3\n",
      "117/117 [==============================] - 15s 125ms/step - loss: 0.6228 - accuracy: 0.7394\n",
      "30/30 [==============================] - 1s 26ms/step - loss: 0.7300 - accuracy: 0.6815\n",
      "Epoch 1/3\n",
      "117/117 [==============================] - 15s 126ms/step - loss: 0.8626 - accuracy: 0.6209\n",
      "Epoch 2/3\n",
      "117/117 [==============================] - 15s 125ms/step - loss: 0.7072 - accuracy: 0.6914\n",
      "Epoch 3/3\n",
      "117/117 [==============================] - 15s 126ms/step - loss: 0.6224 - accuracy: 0.7394\n",
      "30/30 [==============================] - 1s 24ms/step - loss: 0.7749 - accuracy: 0.6740\n",
      "Epoch 1/3\n",
      "117/117 [==============================] - 15s 127ms/step - loss: 0.8665 - accuracy: 0.6229\n",
      "Epoch 2/3\n",
      "117/117 [==============================] - 15s 127ms/step - loss: 0.7035 - accuracy: 0.6983\n",
      "Epoch 3/3\n",
      "117/117 [==============================] - 14s 122ms/step - loss: 0.6113 - accuracy: 0.7411\n",
      "30/30 [==============================] - 1s 24ms/step - loss: 0.7574 - accuracy: 0.6825\n",
      "Epoch 1/3\n",
      "117/117 [==============================] - 15s 125ms/step - loss: 0.8638 - accuracy: 0.6247\n",
      "Epoch 2/3\n",
      "117/117 [==============================] - 15s 127ms/step - loss: 0.6982 - accuracy: 0.6958\n",
      "Epoch 3/3\n",
      "117/117 [==============================] - 14s 123ms/step - loss: 0.6120 - accuracy: 0.7407\n",
      "30/30 [==============================] - 1s 26ms/step - loss: 0.7947 - accuracy: 0.6679\n",
      "Epoch 1/2\n",
      "291/291 [==============================] - 24s 83ms/step - loss: 0.8333 - accuracy: 0.6440\n",
      "Epoch 2/2\n",
      "291/291 [==============================] - 24s 84ms/step - loss: 0.6818 - accuracy: 0.7120\n",
      "Best: 0.679866 using {'batch_size': 32, 'epochs': 2}\n"
     ]
    }
   ],
   "source": [
    "from keras.wrappers.scikit_learn import KerasClassifier\n",
    "from sklearn.model_selection import GridSearchCV\n",
    "batch_size = [16,32,64]\n",
    "epochs = [1,2,3]\n",
    "model = KerasClassifier(build_fn=createmodel,verbose=1)\n",
    "param_grid= dict(batch_size=batch_size, epochs=epochs)\n",
    "grid  = GridSearchCV(estimator=model, param_grid=param_grid)\n",
    "grid_result= grid.fit(X_train, Y_train)\n",
    "# summarize results\n",
    "print(\"Best: %f using %s\" % (grid_result.best_score_, grid_result.best_params_))"
   ]
  },
  {
   "cell_type": "code",
   "execution_count": 25,
   "metadata": {},
   "outputs": [
    {
     "name": "stdout",
     "output_type": "stream",
     "text": [
      "Epoch 1/2\n",
      "291/291 [==============================] - 23s 79ms/step - loss: 0.8263 - accuracy: 0.6395\n",
      "Epoch 2/2\n",
      "291/291 [==============================] - 33s 113ms/step - loss: 0.6742 - accuracy: 0.7117\n",
      "144/144 - 4s - loss: 0.7397 - accuracy: 0.6800\n",
      "Model: \"sequential_51\"\n",
      "_________________________________________________________________\n",
      "Layer (type)                 Output Shape              Param #   \n",
      "=================================================================\n",
      "embedding_51 (Embedding)     (None, 28, 128)           256000    \n",
      "_________________________________________________________________\n",
      "lstm_51 (LSTM)               (None, 196)               254800    \n",
      "_________________________________________________________________\n",
      "dense_51 (Dense)             (None, 3)                 591       \n",
      "=================================================================\n",
      "Total params: 511,391\n",
      "Trainable params: 511,391\n",
      "Non-trainable params: 0\n",
      "_________________________________________________________________\n",
      "None\n",
      "0.7396810054779053\n",
      "0.6799912452697754\n",
      "['loss', 'accuracy']\n"
     ]
    }
   ],
   "source": [
    "best_model = createmodel()\n",
    "best_model.fit(X_train, Y_train, epochs = 2, batch_size=32, verbose = 1)\n",
    "score,acc = best_model.evaluate(X_test,Y_test,verbose=2,batch_size=32)\n",
    "print(best_model.summary())\n",
    "print(score)\n",
    "print(acc)\n",
    "print(best_model.metrics_names)"
   ]
  },
  {
   "cell_type": "code",
   "execution_count": 27,
   "metadata": {},
   "outputs": [],
   "source": [
    "best_model.save(\"sentimentAnalysis_grid.h5\")"
   ]
  },
  {
   "cell_type": "code",
   "execution_count": 32,
   "metadata": {},
   "outputs": [
    {
     "name": "stdout",
     "output_type": "stream",
     "text": [
      "[0]\n"
     ]
    }
   ],
   "source": [
    "print(best_model.predict_classes(X_test[[5],:]))"
   ]
  },
  {
   "cell_type": "code",
   "execution_count": 33,
   "metadata": {},
   "outputs": [
    {
     "name": "stdout",
     "output_type": "stream",
     "text": [
      "[1. 0. 0.]\n"
     ]
    }
   ],
   "source": [
    "print(Y_test[5])"
   ]
  },
  {
   "cell_type": "code",
   "execution_count": null,
   "metadata": {},
   "outputs": [],
   "source": []
  },
  {
   "cell_type": "code",
   "execution_count": null,
   "metadata": {},
   "outputs": [],
   "source": []
  },
  {
   "cell_type": "code",
   "execution_count": null,
   "metadata": {},
   "outputs": [],
   "source": []
  },
  {
   "cell_type": "code",
   "execution_count": null,
   "metadata": {},
   "outputs": [],
   "source": []
  },
  {
   "cell_type": "code",
   "execution_count": null,
   "metadata": {},
   "outputs": [],
   "source": []
  },
  {
   "cell_type": "code",
   "execution_count": null,
   "metadata": {},
   "outputs": [],
   "source": []
  },
  {
   "cell_type": "code",
   "execution_count": null,
   "metadata": {},
   "outputs": [],
   "source": []
  }
 ],
 "metadata": {
  "kernelspec": {
   "display_name": "Python 3",
   "language": "python",
   "name": "python3"
  },
  "language_info": {
   "codemirror_mode": {
    "name": "ipython",
    "version": 3
   },
   "file_extension": ".py",
   "mimetype": "text/x-python",
   "name": "python",
   "nbconvert_exporter": "python",
   "pygments_lexer": "ipython3",
   "version": "3.8.3"
  }
 },
 "nbformat": 4,
 "nbformat_minor": 4
}
